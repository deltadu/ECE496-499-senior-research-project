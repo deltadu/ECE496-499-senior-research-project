{
 "cells": [
  {
   "cell_type": "code",
   "execution_count": 1,
   "metadata": {},
   "outputs": [],
   "source": [
    "import os\n",
    "import glob\n",
    "import shutil\n",
    "import random"
   ]
  },
  {
   "cell_type": "code",
   "execution_count": 2,
   "metadata": {},
   "outputs": [],
   "source": [
    "root_dir = '/Users/dujianlin/Desktop/data/'\n",
    "rendered_rotation = root_dir + 'good_rendered_rotation/'\n",
    "train_folder = root_dir + 'train/'\n",
    "val_folder = root_dir + 'val/'\n",
    "train_target_dir_list = []\n",
    "val_target_dir_list = []"
   ]
  },
  {
   "cell_type": "code",
   "execution_count": 3,
   "metadata": {},
   "outputs": [],
   "source": [
    "# create folder for training data\n",
    "if not os.path.exists(train_folder):\n",
    "    os.makedirs(train_folder)\n",
    "    \n",
    "# create folder for val data\n",
    "if not os.path.exists(val_folder):\n",
    "    os.makedirs(val_folder)\n",
    "    \n",
    "    \n",
    "# create folders for all 36 classes in train folder\n",
    "for i in range(36):\n",
    "    train_target_dir_list.append(train_folder + str(i))\n",
    "    class_dir = train_folder + str(i)\n",
    "    if not os.path.exists(class_dir):\n",
    "        os.makedirs(class_dir)\n",
    "    \n",
    "    \n",
    "# create folders for all 36 classes in val folder\n",
    "for i in range(36):\n",
    "    val_target_dir_list.append(val_folder + str(i))\n",
    "    class_dir = val_folder + str(i)\n",
    "    if not os.path.exists(class_dir):\n",
    "        os.makedirs(class_dir)"
   ]
  },
  {
   "cell_type": "code",
   "execution_count": 4,
   "metadata": {},
   "outputs": [],
   "source": [
    "# move images in each car's folder to corresponding classes folders\n",
    "car_folders = [x[0] for x in os.walk(rendered_rotation)] \n",
    "car_folders.pop(0)\n",
    "counter = 0\n",
    "for dir in car_folders:\n",
    "    # move images in each car folder to each angle folder\n",
    "    \n",
    "    # firstly, randomly pick images(by picking index) for validation\n",
    "    val_selected = [\n",
    "        0 + random.randint(0,5),\n",
    "        6 + random.randint(0,5),\n",
    "        12 + random.randint(0,5),\n",
    "        18 + random.randint(0,5),\n",
    "        24 + random.randint(0,5),\n",
    "        30 + random.randint(0,5),\n",
    "    ]\n",
    "    \n",
    "    for i in range(36):\n",
    "        if i not in val_selected:    # if is training data\n",
    "            if i < 10:\n",
    "                i = '0' + str(i)\n",
    "            img = glob.glob(os.path.join(dir, '*'+str(i)+'.jpg'))[0]\n",
    "            shutil.copy(img, train_target_dir_list[int(i)]+'/'+str(counter)+'.jpg')\n",
    "        \n",
    "        else:                         # if is validation data\n",
    "            if i < 10:\n",
    "                i = '0' + str(i)\n",
    "            img = glob.glob(os.path.join(dir, '*'+str(i)+'.jpg'))[0]\n",
    "            shutil.copy(img, val_target_dir_list[int(i)]+'/'+str(counter)+'.jpg')\n",
    "    \n",
    "    counter = counter + 1"
   ]
  }
 ],
 "metadata": {
  "kernelspec": {
   "display_name": "Python 3",
   "language": "python",
   "name": "python3"
  },
  "language_info": {
   "codemirror_mode": {
    "name": "ipython",
    "version": 3
   },
   "file_extension": ".py",
   "mimetype": "text/x-python",
   "name": "python",
   "nbconvert_exporter": "python",
   "pygments_lexer": "ipython3",
   "version": "3.6.4"
  }
 },
 "nbformat": 4,
 "nbformat_minor": 2
}
