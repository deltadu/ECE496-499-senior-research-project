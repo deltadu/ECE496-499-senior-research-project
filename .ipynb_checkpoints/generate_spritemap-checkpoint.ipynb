{
 "cells": [
  {
   "cell_type": "code",
   "execution_count": 2,
   "metadata": {},
   "outputs": [],
   "source": [
    "# def tryint(s):\n",
    "#     try:\n",
    "#         return int(s)\n",
    "#     except:\n",
    "#         return s\n",
    "def inte(s):\n",
    "    #print(s)\n",
    "    return int(s.split('.')[0])\n",
    "               \n",
    "def sort_nicely(l):\n",
    "    #Sort the given list in the way that humans expect.\n",
    "    l.sort(key=inte)\n"
   ]
  },
  {
   "cell_type": "code",
   "execution_count": 6,
   "metadata": {},
   "outputs": [],
   "source": [
    "from PIL import Image\n",
    "import os, math, time\n",
    "root_dir = '/Users/dujianlin/Desktop/data/sprite/'\n",
    "\n",
    "layers = [\n",
    "    '3b/','3c/','4b/','4c/','4d/','4e/','4f/','5b/','5c/',\n",
    "]\n",
    "row_col_num = {\n",
    "    '3b/': (16, 16),\n",
    "    '3c/': (23, 21),\n",
    "    '4b/': (24, 22),\n",
    "    '4c/': (24, 22),\n",
    "    '4d/': (24, 22),\n",
    "    '4e/': (24, 22),\n",
    "    '4f/': (30, 28),\n",
    "    '5b/': (30, 28),\n",
    "    '5c/': (32, 32)\n",
    "}\n",
    "\n",
    "\n",
    "max_sprites_row = 32\n",
    "\n",
    "\n",
    "tile_width = 110\n",
    "tile_height = 110\n",
    "\n",
    "spritesheet_width = 0\n",
    "spritesheet_height = 0\n",
    "\n",
    "\n",
    "i = 4\n",
    "cur_layer = layers[i]\n",
    "layer_dir = root_dir + cur_layer\n",
    "files = os.listdir(layer_dir)\n",
    "sort_nicely(files)"
   ]
  },
  {
   "cell_type": "code",
   "execution_count": 7,
   "metadata": {},
   "outputs": [],
   "source": [
    "spritesheet_height = 110 * row_col_num[cur_layer][0]\n",
    "spritesheet_width = 110 * row_col_num[cur_layer][1]\n",
    "spritesheet = Image.new(\"RGBA\",(int(spritesheet_width), int(spritesheet_height)))\n",
    "#spritesheet.save(root_dir + cur_layer + \"spritesheet.png\", \"PNG\")"
   ]
  },
  {
   "cell_type": "code",
   "execution_count": 8,
   "metadata": {},
   "outputs": [],
   "source": [
    "counter = 0\n",
    "for current_file in files :\n",
    "    top = 110 * math.floor(counter/row_col_num[cur_layer][1])\n",
    "    left = 110 * (counter % row_col_num[cur_layer][1])\n",
    "    bottom = top + tile_height\n",
    "    right = left + tile_width\n",
    "    \n",
    "    box = (left,top,right,bottom)\n",
    "    box = [int(i) for i in box]\n",
    "    with Image.open(layer_dir + current_file) as im :\n",
    "        a = im.resize((110, 110), Image.ANTIALIAS)            \n",
    "        cut_frame = a.crop((0, 0, tile_width, tile_height))\n",
    "        spritesheet.paste(cut_frame, box)\n",
    "        \n",
    "    counter = counter+1\n",
    "spritesheet.show()"
   ]
  },
  {
   "cell_type": "code",
   "execution_count": 9,
   "metadata": {},
   "outputs": [],
   "source": [
    "spritesheet.save(root_dir + cur_layer.split('/')[0] + \".png\", \"PNG\")"
   ]
  },
  {
   "cell_type": "code",
   "execution_count": null,
   "metadata": {},
   "outputs": [],
   "source": []
  }
 ],
 "metadata": {
  "kernelspec": {
   "display_name": "Python 3",
   "language": "python",
   "name": "python3"
  },
  "language_info": {
   "codemirror_mode": {
    "name": "ipython",
    "version": 3
   },
   "file_extension": ".py",
   "mimetype": "text/x-python",
   "name": "python",
   "nbconvert_exporter": "python",
   "pygments_lexer": "ipython3",
   "version": "3.6.4"
  }
 },
 "nbformat": 4,
 "nbformat_minor": 2
}
