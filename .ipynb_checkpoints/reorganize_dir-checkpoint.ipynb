{
 "cells": [
  {
   "cell_type": "code",
   "execution_count": 1,
   "metadata": {},
   "outputs": [],
   "source": [
    "import os\n",
    "import glob\n",
    "import shutil"
   ]
  },
  {
   "cell_type": "code",
   "execution_count": 2,
   "metadata": {},
   "outputs": [],
   "source": [
    "root_dir = '/srv/Desktop/data'\n",
    "rendered_rotation = '/srv/Desktop/data/good_rendered_rotation'\n",
    "input_folder = '/srv/Desktop/data/input'\n",
    "target_dir_list = []\n"
   ]
  },
  {
   "cell_type": "code",
   "execution_count": 3,
   "metadata": {},
   "outputs": [],
   "source": [
    "# create folder for input data\n",
    "if not os.path.exists(input_folder):\n",
    "    os.makedirs(input_folder)\n",
    "    \n",
    "# create folders for all 36 classes of images\n",
    "for i in range(36):\n",
    "    \n",
    "    target_dir_list.append('/srv/Desktop/data/input/' + str(i))\n",
    "    \n",
    "    class_dir = '/srv/Desktop/data/input/' + str(i)\n",
    "    if not os.path.exists(class_dir):\n",
    "        os.makedirs(class_dir)\n",
    "    "
   ]
  },
  {
   "cell_type": "code",
   "execution_count": 5,
   "metadata": {},
   "outputs": [
    {
     "name": "stdout",
     "output_type": "stream",
     "text": [
      "['/srv/Desktop/data/input/0/', '/srv/Desktop/data/input/1/', '/srv/Desktop/data/input/2/', '/srv/Desktop/data/input/3/', '/srv/Desktop/data/input/4/', '/srv/Desktop/data/input/5/', '/srv/Desktop/data/input/6/', '/srv/Desktop/data/input/7/', '/srv/Desktop/data/input/8/', '/srv/Desktop/data/input/9/', '/srv/Desktop/data/input/10/', '/srv/Desktop/data/input/11/', '/srv/Desktop/data/input/12/', '/srv/Desktop/data/input/13/', '/srv/Desktop/data/input/14/', '/srv/Desktop/data/input/15/', '/srv/Desktop/data/input/16/', '/srv/Desktop/data/input/17/', '/srv/Desktop/data/input/18/', '/srv/Desktop/data/input/19/', '/srv/Desktop/data/input/20/', '/srv/Desktop/data/input/21/', '/srv/Desktop/data/input/22/', '/srv/Desktop/data/input/23/', '/srv/Desktop/data/input/24/', '/srv/Desktop/data/input/25/', '/srv/Desktop/data/input/26/', '/srv/Desktop/data/input/27/', '/srv/Desktop/data/input/28/', '/srv/Desktop/data/input/29/', '/srv/Desktop/data/input/30/', '/srv/Desktop/data/input/31/', '/srv/Desktop/data/input/32/', '/srv/Desktop/data/input/33/', '/srv/Desktop/data/input/34/', '/srv/Desktop/data/input/35/']\n"
     ]
    }
   ],
   "source": [
    "print(target_dir_list)"
   ]
  },
  {
   "cell_type": "code",
   "execution_count": 9,
   "metadata": {},
   "outputs": [
    {
     "data": {
      "text/plain": [
       "'\\nsrc_dir = \"your/source/dir\"\\ndst_dir = \"your/destination/dir\"\\nfor jpgfile in glob.iglob(os.path.join(src_dir, \"*.jpg\")):\\n    shutil.copy(jpgfile, dst_dir+\\'/\\')\\n'"
      ]
     },
     "execution_count": 9,
     "metadata": {},
     "output_type": "execute_result"
    }
   ],
   "source": [
    "# move images in each car's folder to corresponding classes folders\n",
    "car_folders = [x[0] for x in os.walk(rendered_rotation)] \n",
    "car_folders.pop(0)\n",
    "counter = 0\n",
    "for dir in car_folders:\n",
    "    # move images in each car folder to each angle folder\n",
    "    for i in range(36):\n",
    "        if i < 10:\n",
    "            i = '0' + str(i)\n",
    "        img = glob.glob(os.path.join(dir, '*'+str(i)+'.jpg'))[0]\n",
    "        shutil.copy(img, target_dir_list[int(i)]+'/'+str(counter)+'.jpg')\n",
    "    \n",
    "    counter = counter + 1"
   ]
  },
  {
   "cell_type": "code",
   "execution_count": null,
   "metadata": {},
   "outputs": [],
   "source": []
  }
 ],
 "metadata": {
  "kernelspec": {
   "display_name": "Python 3",
   "language": "python",
   "name": "python3"
  },
  "language_info": {
   "codemirror_mode": {
    "name": "ipython",
    "version": 3
   },
   "file_extension": ".py",
   "mimetype": "text/x-python",
   "name": "python",
   "nbconvert_exporter": "python",
   "pygments_lexer": "ipython3",
   "version": "3.5.3"
  }
 },
 "nbformat": 4,
 "nbformat_minor": 2
}
